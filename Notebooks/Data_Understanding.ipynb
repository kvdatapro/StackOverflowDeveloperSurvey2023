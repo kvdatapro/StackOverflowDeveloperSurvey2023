{
 "cells": [
  {
   "cell_type": "markdown",
   "metadata": {},
   "source": [
    "# Data Understanding\n",
    "\n",
    "## Dataset Overview\n",
    "The Stack Overflow Developer Survey 2023 dataset contains responses from developers around the world. The survey includes questions about demographics, programming experience, job satisfaction, technologies used, and compensation, among other topics.\n",
    "\n",
    "### Files in the Dataset:\n",
    "- `survey_results_public.csv`: Contains the main survey results.\n",
    "- `survey_results_schema.csv`: Contains the survey schema, explaining the questions corresponding to each column.\n",
    "\n",
    "The survey was conducted from May 8, 2023, to May 19, 2023.\n"
   ]
  },
  {
   "cell_type": "code",
   "execution_count": null,
   "metadata": {},
   "outputs": [],
   "source": [
    "import io\n",
    "import os\n",
    "import glob\n",
    "import re\n",
    "import pandas as pd\n",
    "import numpy as np\n",
    "import matplotlib.pyplot as plt\n",
    "import seaborn as sns\n",
    "%matplotlib inline\n",
    "\n",
    "pd.set_option(\"display.max_columns\", 100)"
   ]
  },
  {
   "cell_type": "code",
   "execution_count": null,
   "metadata": {},
   "outputs": [],
   "source": [
    "directory_path = '../Datasets'\n",
    "\n",
    "survey_results_path = f'{directory_path}/survey_results_public.csv'\n",
    "schema_path = f'{directory_path}/survey_results_schema.csv'\n",
    "\n",
    "survey_df = pd.read_csv(survey_results_path)\n",
    "schema_df = pd.read_csv(schema_path)\n",
    "\n",
    "print(\"Survey Results DataFrame:\")\n",
    "print(survey_df.head())\n",
    "print(\"\\nSchema DataFrame:\")\n",
    "print(schema_df.head())\n",
    "\n",
    "# column names\n",
    "print(\"\\nColumn Names in Survey DataFrame:\")\n",
    "print(survey_df.columns)"
   ]
  },
  {
   "cell_type": "markdown",
   "metadata": {},
   "source": [
    "## Understanding the schema to decide which columns to prepare for EDA."
   ]
  },
  {
   "cell_type": "code",
   "execution_count": null,
   "metadata": {},
   "outputs": [],
   "source": [
    "print(\"Schema DataFrame:\")\n",
    "print(schema_df.head())\n",
    "\n",
    "for index, row in schema_df.iterrows():\n",
    "    print(f\"Column: {row['qname']}\")\n",
    "    print(f\"Question: {row['question']}\\n\")\n"
   ]
  },
  {
   "cell_type": "markdown",
   "metadata": {},
   "source": [
    "## Understanding the basic statistics"
   ]
  },
  {
   "cell_type": "code",
   "execution_count": null,
   "metadata": {},
   "outputs": [],
   "source": [
    "print(\"Basic Statistics:\")\n",
    "print(survey_df.describe(include='all'))"
   ]
  },
  {
   "cell_type": "markdown",
   "metadata": {},
   "source": [
    "## Understanding the Data Types and Missig Values"
   ]
  },
  {
   "cell_type": "code",
   "execution_count": null,
   "metadata": {},
   "outputs": [],
   "source": [
    "\n",
    "print(\"Data Types:\")\n",
    "print(survey_df.dtypes)\n",
    "\n",
    "print(\"Missing Values:\")\n",
    "print(survey_df.isnull().sum())"
   ]
  },
  {
   "cell_type": "markdown",
   "metadata": {},
   "source": [
    "# Summary\n"
   ]
  },
  {
   "cell_type": "markdown",
   "metadata": {},
   "source": [
    "## The Follwing columns are chosen to be used in the Analysis since they are in the scope of the purpise of the project.\n",
    "\n",
    "### The following are the columns chosen for analysis\n",
    "\n",
    "#### Age, Employment, RemoteWork, CodingActivities, EdLevel, YearsCode, YearsCodePro, DevType, OrgSize, Country, ConvertedCompYearly, LearnCodeCoursesCert, LanguageHaveWorkedWith, DatabaseHaveWorkedWith, PlatformHaveWorkedWith\n"
   ]
  },
  {
   "cell_type": "markdown",
   "metadata": {},
   "source": []
  }
 ],
 "metadata": {
  "kernelspec": {
   "display_name": "Python 3",
   "language": "python",
   "name": "python3"
  },
  "language_info": {
   "codemirror_mode": {
    "name": "ipython",
    "version": 3
   },
   "file_extension": ".py",
   "mimetype": "text/x-python",
   "name": "python",
   "nbconvert_exporter": "python",
   "pygments_lexer": "ipython3",
   "version": "3.9.6"
  }
 },
 "nbformat": 4,
 "nbformat_minor": 2
}
